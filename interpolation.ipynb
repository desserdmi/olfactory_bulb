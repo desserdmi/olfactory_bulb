{
 "cells": [
  {
   "cell_type": "markdown",
   "metadata": {},
   "source": [
    "# Import"
   ]
  },
  {
   "cell_type": "code",
   "execution_count": 2,
   "metadata": {},
   "outputs": [
    {
     "name": "stderr",
     "output_type": "stream",
     "text": [
      "/Users/dima/anaconda3/lib/python3.7/site-packages/sklearn/externals/joblib/__init__.py:15: DeprecationWarning: sklearn.externals.joblib is deprecated in 0.21 and will be removed in 0.23. Please import this functionality directly from joblib, which can be installed with: pip install joblib. If this warning is raised when loading pickled models, you may need to re-serialize those models with scikit-learn 0.21+.\n",
      "  warnings.warn(msg, category=DeprecationWarning)\n"
     ]
    }
   ],
   "source": [
    "import os\n",
    "from os.path import abspath\n",
    "import nilearn as nl\n",
    "from nilearn.image import load_img, math_img\n",
    "import numpy as np\n",
    "import nibabel as nib\n",
    "from fsl.data.image import Image\n",
    "from fsl.utils.image.resample import resample\n",
    "from fsl.utils.image.resample import resampleToPixdims"
   ]
  },
  {
   "cell_type": "markdown",
   "metadata": {},
   "source": [
    "# Set paths and define variables"
   ]
  },
  {
   "cell_type": "code",
   "execution_count": 3,
   "metadata": {},
   "outputs": [],
   "source": [
    "data_dir = abspath('../original')\n",
    "template = nl.image.load_img(\"template.nii.gz\")\n",
    "affine_matrix = template.affine\n",
    "affine_shape = template.shape"
   ]
  },
  {
   "cell_type": "markdown",
   "metadata": {},
   "source": [
    "# Check shapes"
   ]
  },
  {
   "cell_type": "code",
   "execution_count": null,
   "metadata": {},
   "outputs": [],
   "source": [
    "myimg = Image('/Users/dima/Desktop/caruscloud/Bulbus/OB_data_from_Dima/original/Anosmie_001_1952_m.nii.gz')\n",
    "pixdim = myimg.pixdim[2]\n",
    "pixdim"
   ]
  },
  {
   "cell_type": "code",
   "execution_count": null,
   "metadata": {},
   "outputs": [],
   "source": [
    "for root, dirs, files in os.walk(data_dir):\n",
    "    for file in files:\n",
    "        if file.endswith(\".nii.gz\"):\n",
    "            img = Image(os.path.join(root, file))\n",
    "            shape = img.shape\n",
    "            print(file, shape)\n",
    "            #print(file, shape)\n",
    "            #if shape[2] < 32:\n",
    "            #    print('Shape smaller than 32    ' + file, shape)\n",
    "            #if shape[2] > 32:\n",
    "            #    print('Shape greater than 32    ' + file, shape)\n",
    "            #else:\n",
    "            #    print('Shape = 32               ' + file)"
   ]
  },
  {
   "cell_type": "markdown",
   "metadata": {},
   "source": [
    "# Resample and interpolate "
   ]
  },
  {
   "cell_type": "code",
   "execution_count": 4,
   "metadata": {},
   "outputs": [
    {
     "name": "stdout",
     "output_type": "stream",
     "text": [
      "Anosmie_018_1991_w\n",
      "Anosmie_104_1959_w\n",
      "Anosmie_082_1965_w\n",
      "Anosmie_028_1965_w\n",
      "Anosmie_020_1988_w\n",
      "Anosmie_100_1958_w\n",
      "Anosmie_019_1988_w\n",
      "Anosmie_105_1941_w\n",
      "Anosmie_042_1940_w\n",
      "Anosmie_061_1964_w\n",
      "Anosmie_012_1973_w\n",
      "Anosmie_078_1957_w\n",
      "Anosmie_084_1954_w\n",
      "Anosmie_024_1967_m\n",
      "Anosmie_070_1985_m\n",
      "Anosmie_062_1965_w\n",
      "Anosmie_022_1940_w\n",
      "Anosmie_074_1960_m\n",
      "Anosmie_064_1961_w\n",
      "Anosmie_063_1985_m\n",
      "Anosmie_032_1987_w\n",
      "Anosmie_053_1952_w\n",
      "Anosmie_086_1964_m\n",
      "Anosmie_102_1963_m\n",
      "Anosmie_056_1940_w\n",
      "Anosmie_029_1989_w\n",
      "Anosmie_091_1957_m\n",
      "Anosmie_043_1961_m\n",
      "Anosmie_090_1966_w\n",
      "Anosmie_016_1987_w\n",
      "Anosmie_047_1943_w\n",
      "Anosmie_076_1969_m\n",
      "Anosmie_004_1959_m\n",
      "Anosmie_097_1983_w\n",
      "Anosmie_072_1990_m\n",
      "Anosmie_005_1941_w\n",
      "Anosmie_002_1963_w\n",
      "Anosmie_017_1982_w\n",
      "Anosmie_037_1960_w\n",
      "Anosmie_045_1950_w\n",
      "Anosmie_060_1966_m\n",
      "Anosmie_069_1992_m\n",
      "Anosmie_034_1943_w\n",
      "Anosmie_023_1960_m\n",
      "Anosmie_057_1955_m\n",
      "Anosmie_083_1952_m\n",
      "Anosmie_073_1969_w\n",
      "Anosmie_087_1962_w\n",
      "Anosmie_014_1963_w\n",
      "Anosmie_021_1949_m\n",
      "Anosmie_051_1999_m\n",
      "Anosmie_025_1976_m\n",
      "Anosmie_096_1958_w\n",
      "Anosmie_041_1954_m\n",
      "Anosmie_101_1955_w\n",
      "Anosmie_046_1955_w\n",
      "Anosmie_027_1978_m\n",
      "Anosmie_071_1982_w\n",
      "Anosmie_052_1992_w\n",
      "Anosmie_038_1988_w\n",
      "Anosmie_040_1950_w\n",
      "Anosmie_003_1957_w\n",
      "Anosmie_103_1973_m\n",
      "Anosmie_059_1940_w\n",
      "Anosmie_079_1996_w\n",
      "Anosmie_067_1962_w\n",
      "Anosmie_058_1967_w\n",
      "Anosmie_033_1980_w\n",
      "Anosmie_010_1991_w\n",
      "Anosmie_095_1952_w\n",
      "Anosmie_006_1989_w\n",
      "Anosmie_001_1952_m\n",
      "Anosmie_035_1961_w\n",
      "Anosmie_075_1952_m\n",
      "Anosmie_007_1987_m\n",
      "Anosmie_013_1963_w\n",
      "Anosmie_092_1958_m\n",
      "Anosmie_081_1945_w\n",
      "Anosmie_030_1951_m\n",
      "Anosmie_015_1954_w\n",
      "Anosmie_065_1985_w\n",
      "Anosmie_099_1987_w\n",
      "Anosmie_089_1936_w\n",
      "Anosmie_068_1988_m\n",
      "Anosmie_011_1955_w\n",
      "Anosmie_036_1959_m\n",
      "Anosmie_039_1964_w\n",
      "Anosmie_048_1949_w\n",
      "Anosmie_054_1937_m\n",
      "Anosmie_044_1987_m\n",
      "Anosmie_026_1971_m\n",
      "Anosmie_085_1984_m\n",
      "Anosmie_080_1964_m\n",
      "Anosmie_031_1989_m\n",
      "Anosmie_088_1952_m\n",
      "Anosmie_055_1959_w\n",
      "Anosmie_093_1950_m\n",
      "Anosmie_066_1984_w\n",
      "Anosmie_094_1951_w\n",
      "Anosmie_050_1990_w\n",
      "Anosmie_008_1945_w\n",
      "Anosmie_049_1965_m\n",
      "Anosmie_098_1958_w\n",
      "Anosmie_009_1962_w\n"
     ]
    }
   ],
   "source": [
    "for root, dirs, files in os.walk(data_dir):\n",
    "    for file in files:\n",
    "        if file.endswith(\".nii.gz\"):\n",
    "            fname = file.split(\".\")[0]\n",
    "            #img = nl.image.load_img(os.path.join(root, file))\n",
    "            myimg = Image(os.path.join(root, file))\n",
    "            shape = int(myimg.shape[2])\n",
    "            resampled_img = resample(myimg, newShape = (1200, 1200, shape), order=3)\n",
    "            nifti = nib.Nifti1Image(resampled_img[0], affine=resampled_img[1])\n",
    "            if not os.path.exists(abspath('../resampled/%s' %fname)):\n",
    "                os.makedirs(abspath('../resampled/%s' %fname))\n",
    "            nifti.to_filename(abspath('../resampled/%s/r_%s.nii.gz' %(fname, fname)))\n",
    "            print(fname)"
   ]
  },
  {
   "cell_type": "markdown",
   "metadata": {},
   "source": [
    "# Resample images with different slice numbers "
   ]
  },
  {
   "cell_type": "markdown",
   "metadata": {},
   "source": [
    "# Binarize masks"
   ]
  },
  {
   "cell_type": "code",
   "execution_count": null,
   "metadata": {},
   "outputs": [],
   "source": [
    "data_dir = '/Volumes/data/Bulbus/resampled'\n",
    "for root, dirs, files in os.walk(data_dir):\n",
    "    for file in files:\n",
    "        if file.endswith(\"ob_left.nii.gz\") or file.endswith(\"ob_right.nii.gz\") :\n",
    "            fname = file.split(\".\")[0]\n",
    "            in_file = nib.load(os.path.join(\"resampled\", file))\n",
    "            in_data = in_file.get_fdata()\n",
    "            in_data[in_data > 0.9] = 1\n",
    "            in_data[in_data < 0.9] = 0\n",
    "            out_fname = fname+str('_binarized')+\".nii.gz\"\n",
    "            nib.save(nib.Nifti1Image(in_data, in_file.affine, header=in_file.header), os.path.join('binarized', out_fname))"
   ]
  },
  {
   "cell_type": "code",
   "execution_count": null,
   "metadata": {},
   "outputs": [],
   "source": []
  }
 ],
 "metadata": {
  "kernelspec": {
   "display_name": "Python 3",
   "language": "python",
   "name": "python3"
  },
  "language_info": {
   "codemirror_mode": {
    "name": "ipython",
    "version": 3
   },
   "file_extension": ".py",
   "mimetype": "text/x-python",
   "name": "python",
   "nbconvert_exporter": "python",
   "pygments_lexer": "ipython3",
   "version": "3.7.3"
  }
 },
 "nbformat": 4,
 "nbformat_minor": 2
}
